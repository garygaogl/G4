{
 "cells": [
  {
   "cell_type": "code",
   "execution_count": 7,
   "id": "5a5be445-d60e-4387-8657-d4492a2fa027",
   "metadata": {},
   "outputs": [],
   "source": [
    "#Import necessary libraries for data cleaning and processing\n",
    "import pandas as pd \n",
    "import numpy as np  \n",
    "import matplotlib.pyplot as plt \n",
    "import seaborn as sns \n",
    "from sklearn.model_selection import train_test_split\n",
    "from sklearn.preprocessing import StandardScaler"
   ]
  },
  {
   "cell_type": "code",
   "execution_count": 15,
   "id": "55d10ace-ffb3-46cd-b85d-c6897d33256b",
   "metadata": {},
   "outputs": [
    {
     "name": "stdout",
     "output_type": "stream",
     "text": [
      "Gender             0\n",
      "SeniorCitizen      0\n",
      "Dependents         0\n",
      "Tenure             0\n",
      "PhoneService       0\n",
      "MultipleLines      0\n",
      "InternetService    0\n",
      "Contract           0\n",
      "MonthlyCharges     0\n",
      "Churn              0\n",
      "dtype: int64\n",
      "Total data points: 7043\n",
      "Training set size: 5634\n",
      "Testing set size: 1409\n"
     ]
    }
   ],
   "source": [
    "#Import the dataset\n",
    "df = pd.read_csv(\"Dataset_ATS_v2.csv\")  \n",
    "#Rename some columns to keep the consistency\n",
    "df.rename(columns={'gender': 'Gender', 'tenure': 'Tenure'}, inplace=True)\n",
    "\n",
    "\n",
    "print(df.isnull().sum())\n",
    "\n",
    "#Convert 'yes/no' values to binary (1/0) for consistency in data processing  \n",
    "df[['Dependents', 'PhoneService', 'MultipleLines','Churn']] = df[['Dependents','PhoneService', 'MultipleLines', \n",
    "                                                                  'Churn']].replace({'No': 0, 'Yes': 1})\n",
    "#Encoude categorical values\n",
    "df = pd.get_dummies(df, columns=['Gender', 'Contract' ,'InternetService'], drop_first=True)\n",
    "\n",
    "\n",
    "#Split df to training and testing set\n",
    "train_df, test_df = train_test_split(df, test_size=0.2, random_state=42)\n",
    "#Scaling\n",
    "scaler = StandardScaler()\n",
    "train_scaled = scaler.fit_transform(train_df)\n",
    "test_scaled = scaler.transform(test_df)\n",
    "\n",
    "df.head()\n",
    "#Show the number of data points\n",
    "print(f\"Total data points: {df.shape[0]}\")\n",
    "print(f\"Training set size: {train_df.shape[0]}\")\n",
    "print(f\"Testing set size: {test_df.shape[0]}\")\n",
    "\n",
    "#Export the files\n",
    "df.to_csv(\"Data_Preparation/preprocessed_dataset.csv\", index=False)\n",
    "train_df.to_csv(\"Data_Preparation/train_set.csv\", index=False)\n",
    "test_df.to_csv(\"Data_Preparation/test_set.csv\", index=False)"
   ]
  },
  {
   "cell_type": "code",
   "execution_count": null,
   "id": "266575ea-9643-4451-acf6-c09f93e6237a",
   "metadata": {},
   "outputs": [],
   "source": []
  },
  {
   "cell_type": "code",
   "execution_count": null,
   "id": "5256d43b-3104-4553-934b-c2e44f4da50f",
   "metadata": {},
   "outputs": [],
   "source": []
  }
 ],
 "metadata": {
  "kernelspec": {
   "display_name": "Python 3 (ipykernel)",
   "language": "python",
   "name": "python3"
  },
  "language_info": {
   "codemirror_mode": {
    "name": "ipython",
    "version": 3
   },
   "file_extension": ".py",
   "mimetype": "text/x-python",
   "name": "python",
   "nbconvert_exporter": "python",
   "pygments_lexer": "ipython3",
   "version": "3.9.13"
  }
 },
 "nbformat": 4,
 "nbformat_minor": 5
}
