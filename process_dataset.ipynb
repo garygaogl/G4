{
 "cells": [
  {
   "cell_type": "code",
   "execution_count": 2,
   "id": "5a5be445-d60e-4387-8657-d4492a2fa027",
   "metadata": {},
   "outputs": [],
   "source": [
    "#Import necessary libraries for data cleaning and processing\n",
    "import pandas as pd \n",
    "import numpy as np  \n",
    "import matplotlib.pyplot as plt \n",
    "import seaborn as sns \n",
    "from sklearn.model_selection import train_test_split"
   ]
  },
  {
   "cell_type": "code",
   "execution_count": 3,
   "id": "55d10ace-ffb3-46cd-b85d-c6897d33256b",
   "metadata": {},
   "outputs": [],
   "source": [
    "#Import the dataset\n",
    "df = pd.read_csv(\"Dataset_ATS_v2.csv\")  \n",
    "#Rename some columns to keep the consistency\n",
    "df.rename(columns={'gender': 'Gender', 'tenure': 'Tenure'}, inplace=True)\n",
    "\n",
    "#df.info()\n",
    "#df.isna().sum()\n",
    "#df.duplicated()\n",
    "\n",
    "#Convert 'yes/no' values to binary (1/0) for consistency in data processing  \n",
    "df[['Dependents', 'PhoneService', 'MultipleLines','Churn']] = df[['Dependents','PhoneService', 'MultipleLines', \n",
    "                                                                  'Churn']].replace({'No': 0, 'Yes': 1})\n",
    "#Encoude categorical values\n",
    "#df = pd.get_dummies(df, columns=['Gender', 'Contract' ,'InternetService'], drop_first=True)\n",
    "df.head()\n",
    "\n",
    "#Split df to training and testing set\n",
    "train_df, test_df = train_test_split(df, test_size=0.2, random_state=42)\n",
    "\n",
    "\n"
   ]
  },
  {
   "cell_type": "code",
   "execution_count": null,
   "id": "266575ea-9643-4451-acf6-c09f93e6237a",
   "metadata": {},
   "outputs": [],
   "source": []
  },
  {
   "cell_type": "code",
   "execution_count": null,
   "id": "5256d43b-3104-4553-934b-c2e44f4da50f",
   "metadata": {},
   "outputs": [],
   "source": []
  }
 ],
 "metadata": {
  "kernelspec": {
   "display_name": "Python 3 (ipykernel)",
   "language": "python",
   "name": "python3"
  },
  "language_info": {
   "codemirror_mode": {
    "name": "ipython",
    "version": 3
   },
   "file_extension": ".py",
   "mimetype": "text/x-python",
   "name": "python",
   "nbconvert_exporter": "python",
   "pygments_lexer": "ipython3",
   "version": "3.9.13"
  }
 },
 "nbformat": 4,
 "nbformat_minor": 5
}
